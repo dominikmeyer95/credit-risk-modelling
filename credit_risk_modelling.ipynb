{
 "cells": [
  {
   "cell_type": "markdown",
   "metadata": {},
   "source": [
    "### Memorandum\n",
    "\n",
    "* School: Cologne University of Applied Sciences\n",
    "* Degree: BSc in Banking and Finance\n",
    "* Course: Quantitative Methods V\n",
    "* Lecturer: Prof. Dr. Felix Miebs\n",
    "* Guest Lecturer: Dominik Meyer\n",
    "* Guest Lecture: Credit Risk Modelling"
   ]
  },
  {
   "cell_type": "markdown",
   "metadata": {},
   "source": [
    "### Table of Contents\n",
    "\n",
    "* 1 [Credit Risk](#chapter_1)\n",
    "* 2 [Structural Models](#chapter_2)\n",
    "    * 2.1 [Black-Scholes-Merton Model](#chapter_2_1)\n",
    "    * 2.2 [Geske Model](#chapter_2_2)\n",
    "    * 2.3 [Black-Cox Model](#chapter_2_3)\n",
    "* 3 [Reduced-Form Models](#chapter_3)\n",
    "    * 3.1 [Jarrow–Turnbull Model](#chapter_3_1)\n",
    "    * 3.2 [Duffie–Singleton Model](#chapter_3_2)\n"
   ]
  },
  {
   "cell_type": "code",
   "execution_count": 1,
   "metadata": {},
   "outputs": [],
   "source": [
    "# import required modules\n",
    "import numpy as np\n",
    "import pandas as pd\n",
    "import scipy as sp\n",
    "import statsmodels as sm\n",
    "import plotly.express as px\n",
    "import plotly.graph_objects as go"
   ]
  },
  {
   "cell_type": "markdown",
   "metadata": {},
   "source": [
    "### 1 Credit Risk <a class=\"anchor\" id=\"chapter_1\"></a>"
   ]
  },
  {
   "cell_type": "markdown",
   "metadata": {},
   "source": [
    "### 2 Structural Models <a class=\"anchor\" id=\"chapter_2\"></a>"
   ]
  },
  {
   "cell_type": "markdown",
   "metadata": {},
   "source": [
    "### 2.1 Black-Scholes-Merton Model <a class=\"anchor\" id=\"chapter_2_1\"></a>"
   ]
  },
  {
   "cell_type": "markdown",
   "metadata": {},
   "source": [
    "### 2.2 Geske Model <a class=\"anchor\" id=\"chapter_2_2\"></a>"
   ]
  },
  {
   "cell_type": "markdown",
   "metadata": {},
   "source": [
    "### 2.3 Black-Cox Model <a class=\"anchor\" id=\"chapter_2_3\"></a>"
   ]
  },
  {
   "cell_type": "markdown",
   "metadata": {},
   "source": [
    "### 3 Reduced-Form Models <a class=\"anchor\" id=\"chapter_3\"></a>"
   ]
  },
  {
   "cell_type": "markdown",
   "metadata": {},
   "source": [
    "### 3.1 Jarrow-Turnbull Model <a class=\"anchor\" id=\"chapter_3_1\"></a>"
   ]
  },
  {
   "cell_type": "markdown",
   "metadata": {},
   "source": [
    "### 3.2 Duffie-Singleton Model <a class=\"anchor\" id=\"chapter_3_2\"></a>"
   ]
  }
 ],
 "metadata": {
  "kernelspec": {
   "display_name": "venv",
   "language": "python",
   "name": "python3"
  },
  "language_info": {
   "codemirror_mode": {
    "name": "ipython",
    "version": 3
   },
   "file_extension": ".py",
   "mimetype": "text/x-python",
   "name": "python",
   "nbconvert_exporter": "python",
   "pygments_lexer": "ipython3",
   "version": "3.10.8"
  },
  "orig_nbformat": 4
 },
 "nbformat": 4,
 "nbformat_minor": 2
}
