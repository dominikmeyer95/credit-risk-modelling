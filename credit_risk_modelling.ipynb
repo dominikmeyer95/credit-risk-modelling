{
 "cells": [
  {
   "cell_type": "markdown",
   "metadata": {},
   "source": [
    "### Memorandum\n",
    "\n",
    "* School: Cologne University of Applied Sciences\n",
    "* Degree: BSc in Banking and Finance\n",
    "* Course: Quantitative Methods V\n",
    "* Lecturer: Prof. Dr. Felix Miebs\n",
    "* Guest Lecturer: Dominik Meyer\n",
    "* Guest Lecture: Credit Risk Modelling"
   ]
  },
  {
   "cell_type": "markdown",
   "metadata": {},
   "source": [
    "### Table of Contents\n",
    "\n",
    "* 1 [Credit Risk Measurement](#chapter_1)\n",
    "    * 1.1 [Credit Spread Derivation](#chapter_1_1)\n",
    "    * 1.2 [Credit Spread Application](#chapter_1_2)\n",
    "* 2 [Structural Models](#chapter_2)\n",
    "    * 2.1 [Black-Scholes-Merton Model](#chapter_2_1)\n",
    "    * 2.2 [Geske Model](#chapter_2_2)\n",
    "    * 2.3 [Black-Cox Model](#chapter_2_3)\n",
    "* 3 [Reduced-Form Models](#chapter_3)\n",
    "    * 3.1 [Jarrow–Turnbull Model](#chapter_3_1)\n",
    "    * 3.2 [Duffie–Singleton Model](#chapter_3_2)\n"
   ]
  },
  {
   "cell_type": "code",
   "execution_count": 1,
   "metadata": {},
   "outputs": [],
   "source": [
    "# import required modules\n",
    "import numpy as np\n",
    "import pandas as pd\n",
    "import scipy as sp\n",
    "import statsmodels as sm\n",
    "import plotly.express as px\n",
    "import plotly.graph_objects as go"
   ]
  },
  {
   "cell_type": "markdown",
   "metadata": {},
   "source": [
    "### 1 Credit Risk Measurement<a class=\"anchor\" id=\"chapter_1\"></a>"
   ]
  },
  {
   "cell_type": "markdown",
   "metadata": {},
   "source": [
    "### 1.1 Credit Spread Derivation<a class=\"anchor\" id=\"chapter_1_1\"></a>"
   ]
  },
  {
   "cell_type": "markdown",
   "metadata": {},
   "source": [
    "Let the following formula derive a bond's price according to the discounted cash flow principle:\n",
    "\n",
    "$$\n",
    "\\begin{align}\n",
    "B_0 &= \\sum_{t=1}^{T}\\frac{C}{(1+y)^t} + \\frac{M}{(1+y)^T} \\tag{1}\\\\\n",
    "\\end{align}\n",
    "$$\n",
    "\n",
    "with\n",
    "\n",
    "$$\n",
    "\\begin{align}\n",
    "B &= \\text{ bond's price} \\notag\\\\\n",
    "C &= \\text{ bond's coupon} \\notag\\\\\n",
    "M &= \\text{ bond's maturity value} \\notag\\\\\n",
    "y &= \\text{ bond's yield} \\notag\\\\\n",
    "\\end{align}\n",
    "$$\n",
    "\n",
    "Based on that, the idea for the determination of a risk-adequate discount factor $y$ is that an arbitrary investor demands a credit risk premium (or credit spread) $s$ on top of the risk-free rate of return $r$ to compensate for the burden of taking on default risks in non-government bonds. Hence, the risk-adequate discount factor resembles as:\n",
    "\n",
    "$$\n",
    "\\begin{align}\n",
    "y = r + s \\tag{2}\\\\\n",
    "\\end{align}\n",
    "$$\n",
    "\n",
    "For the determination of a risk-adequate discount factor $y$, the credit spread must be high enough to ensure that the expected value of a bond investment subject to default risk is equal to the expected value of a risk-free investment:\n",
    "\n",
    "$$\n",
    "\\begin{align}\n",
    "E(1+r) \\leq E(1+r+s) \\tag{3}\\\\\n",
    "\\end{align}\n",
    "$$\n",
    "\n",
    "Let us assume that the issuer of the risk-free asset indeed cannot not default. Accordingly, the expected value of the investment equals the following payoff:\n",
    "\n",
    "$$\n",
    "E(1+r) = 1+r\n",
    "$$\n",
    "\n",
    "In turn, the issuer of the risky asset does default with a probability of $P$. In this case, an investor receives the recovery rate $R$ of the redemption payment $M$ and interest payments $C$. Vice versa, the investor of the risky asset receives the full redemption and interest payments with probability $(1-P)$. Accordingly, the expected value of the investment equals the following payoff:\n",
    "\n",
    "$$\n",
    "E(1+r+s) = (1-P) \\cdot (1+r+s) + P \\cdot R \\cdot (1+r+s)\n",
    "$$\n",
    "\n",
    "Substituting those expressions into equation $(3)$ yields:\n",
    "\n",
    "$$\n",
    "1+r \\leq (1-P) \\cdot (1+r+s) + P \\cdot R \\cdot (1+r+s)\n",
    "$$\n",
    "\n",
    "Factoring out $(1+r+s)$ reveals:\n",
    "\n",
    "$$\n",
    "1+r \\leq ((1-P) + (P \\cdot R)) \\cdot (1+r+s)\n",
    "$$\n",
    "\n",
    "Dividing by $((1-P)+(P \\cdot R))$ leads to:\n",
    "\n",
    "$$\n",
    "\\frac{1+r}{1-P + P \\cdot R} \\leq 1+r+s\n",
    "$$\n",
    "\n",
    "Subtracting $(1+r)$ results in:\n",
    "\n",
    "$$\n",
    "\\frac{1+r}{1-P + P \\cdot R} - (1+r) \\leq s\n",
    "$$\n",
    "\n",
    "Augmenting by multiplication of $\\frac{(1-P+P \\cdot R)}{(1-P+P \\cdot R)}$ produces:\n",
    "\n",
    "$$\n",
    "\\frac{1+r}{1-P + P \\cdot R} - \\frac{(1+r) \\cdot (1-P + P \\cdot R)}{1-P + P \\cdot R} \\leq s\n",
    "$$\n",
    "\n",
    "Hence, the fractions become subtractable:\n",
    "\n",
    "$$\n",
    "\\frac{(1+r) - (1+r) \\cdot (1-P + P \\cdot R)}{1-P + P \\cdot R} \\leq s\n",
    "$$\n",
    "\n",
    "Factoring out $(1+r)$ in the numerator yields:\n",
    "\n",
    "$$\n",
    "\\frac{(1+r) \\cdot (1 - (1-P + P \\cdot R))}{1-P + P \\cdot R} \\leq s\n",
    "$$\n",
    "\n",
    "Simplyfing the numerator by dissolving the brackets results in:\n",
    "\n",
    "$$\n",
    "\\frac{(1+r) \\cdot (P - P \\cdot R)}{1-P + P \\cdot R} \\leq s\n",
    "$$\n",
    "\n",
    "Pulling forth $(1+r)$ returns:\n",
    "\n",
    "$$\n",
    "(1+r) \\cdot \\frac{(P - P \\cdot R)}{1-P + P \\cdot R} \\leq s\n",
    "$$\n",
    "\n",
    "Factoring out $P$ in numerator and denominator leads to the final expression for the credit spread $s$:\n",
    "\n",
    "$$\n",
    "\\begin{align}\n",
    "(1+r) \\cdot \\frac{P \\cdot (1-R)}{1-P \\cdot (1-R)} \\leq s \\tag{4}\\\\\n",
    "\\end{align}\n",
    "$$\n",
    "\n",
    "Following the final expression for $s$, the credit spread increases whenever the probability of default $P$ increases or the recovery rate $R$ decreases."
   ]
  },
  {
   "cell_type": "markdown",
   "metadata": {},
   "source": [
    "### 1.2 Credit Spread Application<a class=\"anchor\" id=\"chapter_1_2\"></a>"
   ]
  },
  {
   "cell_type": "markdown",
   "metadata": {},
   "source": [
    "### 2 Structural Models <a class=\"anchor\" id=\"chapter_2\"></a>"
   ]
  },
  {
   "cell_type": "markdown",
   "metadata": {},
   "source": [
    "### 2.1 Black-Scholes-Merton Model <a class=\"anchor\" id=\"chapter_2_1\"></a>"
   ]
  },
  {
   "cell_type": "markdown",
   "metadata": {},
   "source": [
    "### 2.2 Geske Model <a class=\"anchor\" id=\"chapter_2_2\"></a>"
   ]
  },
  {
   "cell_type": "markdown",
   "metadata": {},
   "source": [
    "### 2.3 Black-Cox Model <a class=\"anchor\" id=\"chapter_2_3\"></a>"
   ]
  },
  {
   "cell_type": "markdown",
   "metadata": {},
   "source": [
    "### 3 Reduced-Form Models <a class=\"anchor\" id=\"chapter_3\"></a>"
   ]
  },
  {
   "cell_type": "markdown",
   "metadata": {},
   "source": [
    "### 3.1 Jarrow-Turnbull Model <a class=\"anchor\" id=\"chapter_3_1\"></a>"
   ]
  },
  {
   "cell_type": "markdown",
   "metadata": {},
   "source": [
    "### 3.2 Duffie-Singleton Model <a class=\"anchor\" id=\"chapter_3_2\"></a>"
   ]
  }
 ],
 "metadata": {
  "kernelspec": {
   "display_name": "venv",
   "language": "python",
   "name": "python3"
  },
  "language_info": {
   "codemirror_mode": {
    "name": "ipython",
    "version": 3
   },
   "file_extension": ".py",
   "mimetype": "text/x-python",
   "name": "python",
   "nbconvert_exporter": "python",
   "pygments_lexer": "ipython3",
   "version": "3.10.8"
  },
  "orig_nbformat": 4
 },
 "nbformat": 4,
 "nbformat_minor": 2
}
